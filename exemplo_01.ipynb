{
  "nbformat": 4,
  "nbformat_minor": 0,
  "metadata": {
    "colab": {
      "name": "exemplo_01.ipynb",
      "provenance": [],
      "collapsed_sections": [],
      "authorship_tag": "ABX9TyPy9n+qnZKNkyU/rdmqFdDx",
      "include_colab_link": true
    },
    "kernelspec": {
      "name": "python3",
      "display_name": "Python 3"
    }
  },
  "cells": [
    {
      "cell_type": "markdown",
      "metadata": {
        "id": "view-in-github",
        "colab_type": "text"
      },
      "source": [
        "<a href=\"https://colab.research.google.com/github/JGA06/repo01/blob/master/exemplo_01.ipynb\" target=\"_parent\"><img src=\"https://colab.research.google.com/assets/colab-badge.svg\" alt=\"Open In Colab\"/></a>"
      ]
    },
    {
      "cell_type": "code",
      "metadata": {
        "id": "u17M7Lo_1uHM",
        "colab_type": "code",
        "colab": {
          "base_uri": "https://localhost:8080/",
          "height": 68
        },
        "outputId": "e0b5c65d-28ac-4586-99e4-7f8cabde2f8f"
      },
      "source": [
        "# Isto é um comando de saida\n",
        "print('Olá Mundo Cruel!!!')\n",
        "print('Cruel World!!!')\n",
        "print(\"'Com aspas duplas'\")\n",
        "\n",
        "# A hastag é um comentário no código, ou seja, o programa não irá processar nenhuma linha que estiver marcada\n",
        "# O comando print() mostra na tela, ou seja, é uma saída de valor(es). \n",
        "# O conteúdo texto deve estar entre aspas(simples ou dupla)"
      ],
      "execution_count": 3,
      "outputs": [
        {
          "output_type": "stream",
          "text": [
            "Olá Mundo Cruel!!!\n",
            "Cruel World!!!\n",
            "'Com aspas duplas'\n"
          ],
          "name": "stdout"
        }
      ]
    },
    {
      "cell_type": "markdown",
      "metadata": {
        "id": "OiyakCaA4vB0",
        "colab_type": "text"
      },
      "source": [
        "Esta é uma célula somente de texto.\n",
        "Aqui posso fazer formatações usando as ferramentas que estão na barra. Por exemplo, **isto está em negrito**. *Isso é itálico*"
      ]
    },
    {
      "cell_type": "markdown",
      "metadata": {
        "id": "x3l8mgaS5KQD",
        "colab_type": "text"
      },
      "source": [
        "Abaixo vamos ver como mescar uma saída de tela"
      ]
    },
    {
      "cell_type": "code",
      "metadata": {
        "id": "fbq1QnHh5XT-",
        "colab_type": "code",
        "colab": {
          "base_uri": "https://localhost:8080/",
          "height": 129
        },
        "outputId": "272b9b37-ea44-4624-953a-21a51804bd7a"
      },
      "source": [
        "print('João', 'Gabriel')"
      ],
      "execution_count": 6,
      "outputs": [
        {
          "output_type": "error",
          "ename": "SyntaxError",
          "evalue": "ignored",
          "traceback": [
            "\u001b[0;36m  File \u001b[0;32m\"<ipython-input-6-55263e321e46>\"\u001b[0;36m, line \u001b[0;32m2\u001b[0m\n\u001b[0;31m    for i in rage(1,11);\u001b[0m\n\u001b[0m                       ^\u001b[0m\n\u001b[0;31mSyntaxError\u001b[0m\u001b[0;31m:\u001b[0m invalid syntax\n"
          ]
        }
      ]
    }
  ]
}